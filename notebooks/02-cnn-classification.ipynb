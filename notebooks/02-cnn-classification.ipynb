{
 "cells": [
  {
   "cell_type": "markdown",
   "id": "64bffe9e",
   "metadata": {},
   "source": [
    "# CNN for Classification \n",
    "\n",
    "To be uploaded"
   ]
  }
 ],
 "metadata": {
  "language_info": {
   "name": "python"
  }
 },
 "nbformat": 4,
 "nbformat_minor": 5
}
