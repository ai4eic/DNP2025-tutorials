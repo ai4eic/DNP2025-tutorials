{
 "cells": [
  {
   "cell_type": "markdown",
   "id": "3ca5945a",
   "metadata": {},
   "source": [
    "# CNN for Regression\n",
    "\n",
    "To be uploaded"
   ]
  }
 ],
 "metadata": {
  "language_info": {
   "name": "python"
  }
 },
 "nbformat": 4,
 "nbformat_minor": 5
}
